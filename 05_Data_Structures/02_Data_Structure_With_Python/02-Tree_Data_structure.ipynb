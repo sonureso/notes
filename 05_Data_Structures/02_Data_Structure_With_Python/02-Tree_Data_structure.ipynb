{
 "cells": [
  {
   "cell_type": "code",
   "execution_count": 1,
   "metadata": {},
   "outputs": [],
   "source": [
    "class Node:\n",
    "    def __init__(self, val):\n",
    "        self.left = None\n",
    "        self.right = None\n",
    "        self.val = val\n"
   ]
  },
  {
   "cell_type": "code",
   "execution_count": 21,
   "metadata": {},
   "outputs": [],
   "source": [
    "class Tree:\n",
    "    def __init__(self):\n",
    "        self.root = None\n",
    "    \n",
    "    def add(self,val):\n",
    "        if self.root is None:\n",
    "            self.root = Node(val)\n",
    "        else:\n",
    "            self._add(val,self.root)\n",
    "   \n",
    "    def _add(self,val,node):\n",
    "        if(val<node.val):\n",
    "            if node.left is not None:\n",
    "                self._add(val,node.left)\n",
    "            else:\n",
    "                node.left = Node(val)\n",
    "        else:\n",
    "            if node.right is not None:\n",
    "                self._add(val,node.right)\n",
    "            else:\n",
    "                node.right = Node(val)\n",
    "    def printTree(self):\n",
    "        if self.root is not None:\n",
    "            self._printTree(self.root)\n",
    "    def _printTree(self,node):\n",
    "        if node is not None:\n",
    "            self._printTree(node.left)\n",
    "            print(\" \",node.val)\n",
    "            self._printTree(node.right)   "
   ]
  },
  {
   "cell_type": "code",
   "execution_count": 22,
   "metadata": {},
   "outputs": [],
   "source": [
    "tree = Tree()\n",
    "tree.add(10)\n",
    "tree.add(8)\n",
    "tree.add(15)\n",
    "tree.add(3)\n",
    "tree.add(9)\n",
    "tree.add(12)\n",
    "tree.add(17)"
   ]
  },
  {
   "cell_type": "code",
   "execution_count": 23,
   "metadata": {},
   "outputs": [
    {
     "name": "stdout",
     "output_type": "stream",
     "text": [
      "  3\n",
      "  8\n",
      "  9\n",
      "  10\n",
      "  12\n",
      "  15\n",
      "  17\n"
     ]
    }
   ],
   "source": [
    "tree.printTree()"
   ]
  },
  {
   "cell_type": "code",
   "execution_count": null,
   "metadata": {},
   "outputs": [],
   "source": []
  },
  {
   "cell_type": "code",
   "execution_count": null,
   "metadata": {},
   "outputs": [],
   "source": []
  }
 ],
 "metadata": {
  "kernelspec": {
   "display_name": "Python 3",
   "language": "python",
   "name": "python3"
  },
  "language_info": {
   "codemirror_mode": {
    "name": "ipython",
    "version": 3
   },
   "file_extension": ".py",
   "mimetype": "text/x-python",
   "name": "python",
   "nbconvert_exporter": "python",
   "pygments_lexer": "ipython3",
   "version": "3.7.4"
  }
 },
 "nbformat": 4,
 "nbformat_minor": 2
}

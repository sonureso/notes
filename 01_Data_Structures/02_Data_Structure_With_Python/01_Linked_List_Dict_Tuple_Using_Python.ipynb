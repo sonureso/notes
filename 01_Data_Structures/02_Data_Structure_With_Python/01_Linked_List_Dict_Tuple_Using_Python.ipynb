{
 "cells": [
  {
   "cell_type": "markdown",
   "metadata": {},
   "source": [
    "♦ Topics to be covered:\n",
    "1. What are data structures?\n",
    "2. Types of Data Sturctures in python.\n",
    "3. Buildin Data Structures:\n",
    "    a)Lists \n",
    "    b)Dictionaries\n",
    "    c)Tuples\n",
    "    d)Sets\n",
    "4. User-Defined Data Sturctures\n",
    "    a)Stack\n",
    "    b)Queue \n",
    "    c)Graph\n",
    "    d)Tree\n",
    "    e)Linked List\n",
    "    f)HashMap: (Similar to dictionary) Not covering."
   ]
  },
  {
   "cell_type": "markdown",
   "metadata": {},
   "source": [
    "♦ 1. Data Structure: Data Structures are used to organize, store and manage data for \n",
    "     efficient access and modification."
   ]
  },
  {
   "cell_type": "markdown",
   "metadata": {},
   "source": [
    "# ♦ 3(a): Lists"
   ]
  },
  {
   "cell_type": "code",
   "execution_count": 6,
   "metadata": {},
   "outputs": [
    {
     "name": "stdout",
     "output_type": "stream",
     "text": [
      "[1, 5, 9, 3, 6, 5, [2, 5, 5]]\n",
      "[1, 5, 9, 3, 6, 5, [2, 5, 5], 2, 5, 8, 9]\n",
      "[1, 5, 9, 3, 6, 5, [2, 5, 5], 2, 5, 8, 9, 2, 5, 8, 9]\n",
      "[1, 5, 9, 'number3', 3, 6, 5, [2, 5, 5], 2, 5, 8, 9, 2, 5, 8, 9]\n"
     ]
    }
   ],
   "source": [
    "# adding elements in List: append(), extend(), insert().\n",
    "list1 = [1,5,9,3,6,5]\n",
    "list1.append([2,5,5]) # add as one element, whatever you give, list, tuple or dict.\n",
    "print(list1)\n",
    "list1.extend([2,5,8,9])\n",
    "print(list1)\n",
    "list1.extend((2,5,8,9))\n",
    "print(list1)\n",
    "list1.insert(3,'number3') # used for inserting something at a specific position.\n",
    "print(list1)"
   ]
  },
  {
   "cell_type": "code",
   "execution_count": 22,
   "metadata": {},
   "outputs": [
    {
     "name": "stdout",
     "output_type": "stream",
     "text": [
      "[1, 5, 9, 3, 6, 'not good', 5, 'lastelement']\n",
      "not good\n",
      "[1, 5, 9, 3, 6, 5, 'lastelement']\n",
      "[1, 5, 3, 6, 5, 'lastelement']\n"
     ]
    }
   ],
   "source": [
    "# deleting elements in List: del(), pop(), remove().\n",
    "list1 = [1,5,9,'item3',3,6,'not good',5,'lastelement']\n",
    "del list1[3]  # deleting element using index number:\n",
    "print(list1)\n",
    "print(list1.pop(5)) # it returns whatever it pops(index) from the list. If index not given then it pops last element.\n",
    "print(list1) # now element at index 6 is poped.\n",
    "list1.remove(9)\n",
    "print(list1)"
   ]
  },
  {
   "cell_type": "code",
   "execution_count": 36,
   "metadata": {},
   "outputs": [
    {
     "name": "stdout",
     "output_type": "stream",
     "text": [
      "Whole list is:  [1, 5, 3, 6, 5, 'lastelement']\n",
      "First 2 elements: [1, 5]\n",
      "Skipping every second element: [1, 3, 5]\n",
      "Reverse of list: ['lastelement', 5, 6, 3, 5, 1]\n"
     ]
    }
   ],
   "source": [
    "# accessing elements of the List: \n",
    "print('Whole list is: ',list1[:])\n",
    "print('First 2 elements:',list1[:2])\n",
    "print('Skipping every second element:',list1[0:6:2])\n",
    "print('Reverse of list:',list1[::-1])"
   ]
  },
  {
   "cell_type": "code",
   "execution_count": 44,
   "metadata": {},
   "outputs": [
    {
     "name": "stdout",
     "output_type": "stream",
     "text": [
      "[152, 84, 45, 36, 11, 8, 5, 2, 2, 0]\n",
      "[2, 5, 8, 152, 11, 2, 36, 84, 45, 0]\n",
      "None\n",
      "[152, 84, 45, 36, 11, 8, 5, 2, 2, 0]\n"
     ]
    }
   ],
   "source": [
    "# sort() and sorted():\n",
    "list1 = [2,5,8,152,11,2,36,84,45,0]\n",
    "print(sorted(list1,reverse=True)) # this return the sorted but does not sort the main list.\n",
    "print(list1)\n",
    "print(list1.sort(reverse=True)) # does not return anything but it sort the main list.\n",
    "print(list1)"
   ]
  },
  {
   "cell_type": "code",
   "execution_count": 52,
   "metadata": {},
   "outputs": [
    {
     "name": "stdout",
     "output_type": "stream",
     "text": [
      "2\n",
      "1\n"
     ]
    }
   ],
   "source": [
    "# finding index number of some element:\n",
    "print(list1.index(45))\n",
    "# getting count of perticular element:\n",
    "print(list1.count(0))"
   ]
  },
  {
   "cell_type": "markdown",
   "metadata": {},
   "source": [
    "# 3(b): Tuples"
   ]
  },
  {
   "cell_type": "code",
   "execution_count": 68,
   "metadata": {},
   "outputs": [
    {
     "name": "stdout",
     "output_type": "stream",
     "text": [
      "(1, 2, 3, 4, 5)\n"
     ]
    }
   ],
   "source": [
    "tuple1 = (1,2,3,4)\n",
    "tuple2 = (5,) # this is the only method to add one or more element to tuple.\n",
    "tuple1 = tuple1 + tuple2\n",
    "print(tuple1)\n",
    "# you can not remove any element from the tuple."
   ]
  },
  {
   "cell_type": "markdown",
   "metadata": {},
   "source": [
    "# 3(c): Dictionary"
   ]
  },
  {
   "cell_type": "code",
   "execution_count": 73,
   "metadata": {},
   "outputs": [
    {
     "name": "stdout",
     "output_type": "stream",
     "text": [
      "['one,two,three']\n",
      "{'name': ['name1', 'name2', 'name3'], 'sal': [2500, 3000, 4500]}\n"
     ]
    }
   ],
   "source": [
    "# This is the concept of key and value pair, One key can have int, string, list, dict or anydata type.\n",
    "dict1 = {1:['one,two,three'],2:{'name':['name1','name2','name3'],'sal':[2500,3000,4500]}}\n",
    "print(dict1[1])  # key 1 contains a list.\n",
    "print(dict1[2])  # key 2 contains a dict which further contains a list of name and their salaries."
   ]
  },
  {
   "cell_type": "code",
   "execution_count": 82,
   "metadata": {},
   "outputs": [
    {
     "name": "stdout",
     "output_type": "stream",
     "text": [
      "{1: 'Mango', 2: 'Banana', 3: 'Grapes', 4: 'Coconut'}\n",
      "{1: 'Mango', 3: 'Grapes', 4: 'Coconut'}\n",
      "Grapes\n",
      "{1: 'Mango', 4: 'Coconut'}\n",
      "Poping last item: (4, 'Coconut')\n",
      "{1: 'Mango'}\n"
     ]
    }
   ],
   "source": [
    "# adding more keys:\n",
    "dict2 = {1:'Mango',2:'Banana',3:'Grapes'}\n",
    "dict2[4] = 'Coconut'\n",
    "print(dict2)\n",
    "# deleting: del(), pop(), remove()\n",
    "del dict2[2] # deleted data by key.\n",
    "print(dict2)\n",
    "print(dict2.pop(3)) # poping element by key.\n",
    "print(dict2)\n",
    "print('Poping last item:',dict2.popitem()) # only pops the last data in dictionary\n",
    "print(dict2)"
   ]
  },
  {
   "cell_type": "code",
   "execution_count": 88,
   "metadata": {},
   "outputs": [
    {
     "name": "stdout",
     "output_type": "stream",
     "text": [
      "dict_keys([1, 2, 3, 4])\n",
      "dict_values(['Mango', 'Banana', 'Grapes', 'Coconut'])\n",
      "dict_items([(1, 'Mango'), (2, 'Banana'), (3, 'Grapes'), (4, 'Coconut')])\n"
     ]
    }
   ],
   "source": [
    "#printing keys and values:\n",
    "dict2 = {1:'Mango',2:'Banana',3:'Grapes',4:'Coconut'}\n",
    "print(dict2.keys())\n",
    "print(dict2.values())\n",
    "print(dict2.items())"
   ]
  },
  {
   "cell_type": "markdown",
   "metadata": {},
   "source": [
    "# 3(d): Sets"
   ]
  },
  {
   "cell_type": "code",
   "execution_count": 94,
   "metadata": {},
   "outputs": [
    {
     "name": "stdout",
     "output_type": "stream",
     "text": [
      "{1, 2, 3, 4, 5}\n",
      "None\n",
      "{1, 2, 3, 4, 5, 6}\n"
     ]
    }
   ],
   "source": [
    "set1 = {1,2,3,4,4,4,5,5}\n",
    "print(set1)\n",
    "# adding element:\n",
    "print(set1.add(6)) # takes only one argument.\n",
    "print(set1)"
   ]
  },
  {
   "cell_type": "code",
   "execution_count": 98,
   "metadata": {},
   "outputs": [
    {
     "name": "stdout",
     "output_type": "stream",
     "text": [
      "{1, 2, 3, 4, 5, 6, 7}\n",
      "{5, 6}\n",
      "{1, 2, 3, 4}\n",
      "{1, 2, 3, 4, 7}\n"
     ]
    }
   ],
   "source": [
    "# functions: union(), intersection(), difference(), symmetric_difference()\n",
    "set2 = {5,6,7}\n",
    "print(set1.union(set2))\n",
    "print(set1.intersection(set2))\n",
    "print(set1.difference(set2))\n",
    "print(set1.symmetric_difference(set2))"
   ]
  },
  {
   "cell_type": "markdown",
   "metadata": {},
   "source": [
    "♦  Userdefined Data Structures in python:\n"
   ]
  },
  {
   "cell_type": "markdown",
   "metadata": {},
   "source": [
    "►  Understanding array in python:\n",
    "♦ List can have heterogenous type of elements, but array contains similar type of data.\n"
   ]
  },
  {
   "cell_type": "markdown",
   "metadata": {},
   "source": [
    "# Arrays:"
   ]
  },
  {
   "cell_type": "markdown",
   "metadata": {},
   "source": [
    "► Code for various type of data types:\n",
    "Code   C Type           Python Type    Min bytes\n",
    "'b'    signed char      int            1\n",
    "'B'    unsigned char    int            1\n",
    "'u'    Py_UNICODE       Unicode        2\n",
    "'h'    signed short     int            2\n",
    "'H'    unsigned short   int            2\n",
    "'i'    signed int       int            2\n",
    "'I'    unsigned int     int            2\n",
    "'l'    signed long      int            4\n",
    "'L'    unsigned long    int            4\n",
    "'f'    float            float          4\n",
    "'d'    double           float          8"
   ]
  },
  {
   "cell_type": "code",
   "execution_count": 102,
   "metadata": {},
   "outputs": [
    {
     "name": "stdout",
     "output_type": "stream",
     "text": [
      "array('d', [1.1, 3.5, 4.5, 2.9, 3.0])\n"
     ]
    }
   ],
   "source": [
    "# Creating Arrays:\n",
    "import array as arr\n",
    "a = arr.array('d', [1.1, 3.5, 4.5,2.9,3.0])\n",
    "print(a)\n",
    "# Here 'd' represents python float type."
   ]
  },
  {
   "cell_type": "code",
   "execution_count": 104,
   "metadata": {},
   "outputs": [
    {
     "name": "stdout",
     "output_type": "stream",
     "text": [
      "First element: 1.1\n",
      "Second element: 3.5\n",
      "Last element: 3.0\n"
     ]
    }
   ],
   "source": [
    "# accessing elements:\n",
    "print(\"First element:\", a[0])\n",
    "print(\"Second element:\", a[1])\n",
    "print(\"Last element:\", a[-1])"
   ]
  },
  {
   "cell_type": "code",
   "execution_count": 109,
   "metadata": {},
   "outputs": [
    {
     "name": "stdout",
     "output_type": "stream",
     "text": [
      "array('d', [4.5, 2.9, 3.0])\n",
      "array('d')\n",
      "array('d')\n",
      "array('d', [1.1, 3.5, 4.5, 2.9, 3.0])\n"
     ]
    }
   ],
   "source": [
    "#Slicing data in array:\n",
    "print(a[2:5]) # 3rd to 5th\n",
    "print(a[:-5]) # beginning to 4th\n",
    "print(a[5:])  # 6th to end\n",
    "print(a[:])"
   ]
  },
  {
   "cell_type": "code",
   "execution_count": 117,
   "metadata": {},
   "outputs": [
    {
     "name": "stdout",
     "output_type": "stream",
     "text": [
      "array('d', [1.1, 3.5, 4.5, 2.9, 3.0, 2.5])\n",
      "array('d', [1.1, 3.5, 4.5, 2.9, 3.0, 2.5, 1.0, 3.7, 2.8])\n"
     ]
    },
    {
     "data": {
      "text/plain": [
       "array('d', [1.1, 3.5, 4.5, 29.7, 2.9, 3.0, 2.5, 1.0, 3.7, 2.8])"
      ]
     },
     "execution_count": 117,
     "metadata": {},
     "output_type": "execute_result"
    }
   ],
   "source": [
    "# adding elements: all similar to List.\n",
    "a = arr.array('d', [1.1, 3.5, 4.5,2.9,3.0])\n",
    "a.append(2.5)\n",
    "print(a)\n",
    "a.extend([1.0,3.7,2.8])\n",
    "print(a)\n",
    "a.insert(3,29.7)\n",
    "a"
   ]
  },
  {
   "cell_type": "code",
   "execution_count": 121,
   "metadata": {},
   "outputs": [
    {
     "name": "stdout",
     "output_type": "stream",
     "text": [
      "array('d', [1.1, 4.5, 2.9, 3.0, 2.5, 1.0, 3.7, 2.8, 29.7])\n",
      "array('d', [1.1, 2.9, 3.0, 2.5, 1.0, 3.7, 2.8, 29.7])\n",
      "array('d', [2.9, 3.0, 2.5, 1.0, 3.7, 2.8, 29.7])\n"
     ]
    }
   ],
   "source": [
    "# removing elements from array: exactly same as lists:\n",
    "a = arr.array('d', [1.1, 3.5, 4.5,2.9,3.0,2.5,1.0,3.7,2.8,29.7])\n",
    "del a[1]\n",
    "print(a)\n",
    "a.pop(1)\n",
    "print(a)\n",
    "a.remove(1.1)\n",
    "print(a)"
   ]
  },
  {
   "cell_type": "markdown",
   "metadata": {},
   "source": [
    "NOTE:\n",
    "Lists are much more flexible than arrays. They can store elements of different data types including string. \n",
    "Also, lists are faster than arrays. And, if you need to do mathematical computation on arrays and matrices,\n",
    "you are much better off using something like NumPy library.\n",
    "Unless you don't really need arrays (array module may be needed to interface with C code), don't use them."
   ]
  },
  {
   "cell_type": "code",
   "execution_count": null,
   "metadata": {},
   "outputs": [],
   "source": []
  },
  {
   "cell_type": "markdown",
   "metadata": {},
   "source": [
    "# 4(a): Stack - LIFO"
   ]
  },
  {
   "cell_type": "code",
   "execution_count": 130,
   "metadata": {},
   "outputs": [],
   "source": [
    "def insert(x):\n",
    "    st.insert(0,x)\n",
    "def remove():\n",
    "    del st[0]"
   ]
  },
  {
   "cell_type": "code",
   "execution_count": 127,
   "metadata": {},
   "outputs": [],
   "source": [
    "# most recent element should be on first position.\n",
    "# pop should delete first/most recent element."
   ]
  },
  {
   "cell_type": "code",
   "execution_count": 132,
   "metadata": {},
   "outputs": [
    {
     "data": {
      "text/plain": [
       "[6, 5]"
      ]
     },
     "execution_count": 132,
     "metadata": {},
     "output_type": "execute_result"
    }
   ],
   "source": [
    "# Example:\n",
    "insert(5)\n",
    "insert(6)\n",
    "insert(7)\n",
    "remove()\n",
    "st"
   ]
  },
  {
   "cell_type": "markdown",
   "metadata": {},
   "source": [
    "# 4(b): Queue: Similar Case, Follows: FIFO"
   ]
  },
  {
   "cell_type": "code",
   "execution_count": 135,
   "metadata": {},
   "outputs": [],
   "source": [
    "from collections import deque"
   ]
  },
  {
   "cell_type": "code",
   "execution_count": null,
   "metadata": {},
   "outputs": [],
   "source": [
    "# available operations: append(), appendleft(), pop(), popleft(), "
   ]
  },
  {
   "cell_type": "code",
   "execution_count": null,
   "metadata": {},
   "outputs": [],
   "source": []
  },
  {
   "cell_type": "markdown",
   "metadata": {},
   "source": [
    "# 4(c): Linked List:"
   ]
  },
  {
   "cell_type": "code",
   "execution_count": 20,
   "metadata": {},
   "outputs": [],
   "source": [
    "class Node(object):\n",
    "    def __init__(self,data=None,next_node=None):\n",
    "        self.data = data\n",
    "        self.next_node = next_node\n",
    "    \n",
    "    def get_data(self):\n",
    "        return self.data\n",
    "    \n",
    "    def get_next(self):\n",
    "        return self.next_node\n",
    "    \n",
    "    def set_next(self,new_next):\n",
    "        self.next_node = new_next    "
   ]
  },
  {
   "cell_type": "code",
   "execution_count": 132,
   "metadata": {},
   "outputs": [],
   "source": [
    "class l_list(object):\n",
    "    def __init__(self,head=None):\n",
    "        self.head = head\n",
    "        self.size = 0\n",
    "    def insert_front(self,data):\n",
    "        new_node = Node(data)\n",
    "        new_node.set_next(self.head)\n",
    "        self.head = new_node\n",
    "        self.size = self.size+1\n",
    "    def insert_end(self,data):\n",
    "        new_node = Node(data)\n",
    "        if(self.head == None):\n",
    "            self.head = new_node\n",
    "        else:\n",
    "            last_node = self.head\n",
    "            while(last_node.next_node != None):\n",
    "                last_node = last_node.next_node()\n",
    "            last_node.set_next(new_node)\n",
    "        self.size = self.size+1\n",
    "    def insert_after_node(self,after_node,data):\n",
    "        if(after_node==None):\n",
    "            print(\"This node doesn't exist.\")\n",
    "        else:\n",
    "            new_node = Node(data)\n",
    "            new_node.set_next(after_node.get_next())\n",
    "            after_node.next_node = new_node\n",
    "        self.size = self.size + 1\n",
    "    def show_node(self):\n",
    "        node = self.head\n",
    "        while(node != None):\n",
    "            print(node.data)\n",
    "            node = node.next_node\n",
    "    def del_data(self,d):\n",
    "        found = False\n",
    "        node = self.head\n",
    "        if(self.head==None):\n",
    "            print(\"Linked List is empty!!\")\n",
    "        else:\n",
    "            if(node.data==d):\n",
    "                self.head = node.next_node\n",
    "                found = True\n",
    "            while(node.next_node!=None):\n",
    "                if(node.next_node.data!=d):\n",
    "                    node = node.next_node\n",
    "                else:\n",
    "                    node.next_node = node.next_node.next_node\n",
    "                    found = True\n",
    "                    break\n",
    "            if(found==False):\n",
    "                print(\"Data Not Found.\")"
   ]
  },
  {
   "cell_type": "code",
   "execution_count": null,
   "metadata": {},
   "outputs": [],
   "source": []
  },
  {
   "cell_type": "code",
   "execution_count": null,
   "metadata": {},
   "outputs": [],
   "source": []
  },
  {
   "cell_type": "code",
   "execution_count": 139,
   "metadata": {},
   "outputs": [],
   "source": [
    "llist = l_list()\n",
    "llist.insert_end(10)\n",
    "llist.insert_end(105)\n",
    "llist.insert_front(25)\n",
    "llist.insert_front(35)\n",
    "llist.insert_front(95)"
   ]
  },
  {
   "cell_type": "code",
   "execution_count": 140,
   "metadata": {},
   "outputs": [],
   "source": [
    "# inserting after 2nd node.\n",
    "node = llist.head.next_node\n",
    "llist.insert_after_node(node,1005)"
   ]
  },
  {
   "cell_type": "code",
   "execution_count": 143,
   "metadata": {},
   "outputs": [
    {
     "name": "stdout",
     "output_type": "stream",
     "text": [
      "Data Not Found.\n",
      "95\n",
      "35\n",
      "1005\n",
      "25\n",
      "10\n",
      "105\n"
     ]
    }
   ],
   "source": [
    "llist.del_data(10005)\n",
    "llist.show_node()"
   ]
  },
  {
   "cell_type": "code",
   "execution_count": null,
   "metadata": {},
   "outputs": [],
   "source": []
  },
  {
   "cell_type": "code",
   "execution_count": null,
   "metadata": {},
   "outputs": [],
   "source": []
  },
  {
   "cell_type": "code",
   "execution_count": null,
   "metadata": {},
   "outputs": [],
   "source": []
  },
  {
   "cell_type": "code",
   "execution_count": null,
   "metadata": {},
   "outputs": [],
   "source": []
  },
  {
   "cell_type": "code",
   "execution_count": 227,
   "metadata": {},
   "outputs": [],
   "source": [
    "class Node(object):\n",
    "    def __init__(self,data=None,next_node=None):\n",
    "        self.data = data\n",
    "        self.next_node = next_node"
   ]
  },
  {
   "cell_type": "code",
   "execution_count": 229,
   "metadata": {},
   "outputs": [],
   "source": [
    "class chain(object):\n",
    "    def __init__(self,anchor=None):\n",
    "        self.anchor = anchor\n",
    "        # size will keep track of number of nodes in the chain.\n",
    "        self.size = 0\n",
    "    def insert_front(self,data):\n",
    "        new_node = Node(data)\n",
    "        new_node.next_node = self.anchor\n",
    "        self.anchor = new_node\n",
    "        self.size = self.size+1\n",
    "    def insert_end(self,data):\n",
    "        new_node = Node(data)\n",
    "        if(self.anchor == None):\n",
    "            self.anchor = new_node\n",
    "        else:\n",
    "            last_node = self.anchor\n",
    "            while(last_node.next_node != None):\n",
    "                last_node = last_node.next_node\n",
    "            last_node.next_node = new_node\n",
    "        self.size = self.size+1\n",
    "    def show_node(self):\n",
    "        node = self.anchor\n",
    "        while(node != None):\n",
    "            print(node.data)\n",
    "            node = node.next_node\n",
    "    def del_front(self):\n",
    "        if(self.anchor==None):\n",
    "            print(\"There is no node to be deleted.\")\n",
    "        else:\n",
    "            self.anchor = self.anchor.next_node\n",
    "            self.size = self.size-1\n",
    "    def del_end(self):\n",
    "        if(self.anchor==None):\n",
    "            print(\"There is no node to be deleted.\")\n",
    "        else:\n",
    "            prev_node = self.anchor\n",
    "            cur_node = self.anchor.next_node\n",
    "            if(cur_node==None):\n",
    "                self.anchor = None\n",
    "                self.size = self.size-1\n",
    "            else:\n",
    "                while(cur_node.next_node!=None):\n",
    "                    prev_node = cur_node\n",
    "                    cur_node = cur_node.next_node\n",
    "                prev_node.next_node = None\n",
    "                self.size = self.size-1\n",
    "    def insert_index(self,index,data):\n",
    "        if(self.size<index):\n",
    "            print(\"chain length is less than given index \",index)\n",
    "        else:\n",
    "            new_node = Node(data)\n",
    "            prev_node = self.anchor\n",
    "            cur_node = self.anchor.next_node\n",
    "            if(self.size==index):\n",
    "                self.insert_end(data)\n",
    "            elif(index==0):\n",
    "                self.insert_front(data)\n",
    "            elif(index==1):\n",
    "                new_node.next_node = self.anchor.next_node\n",
    "                self.anchor.next_node = new_node\n",
    "            else:\n",
    "                counter = 0\n",
    "                while(counter!=index-1):\n",
    "                    counter = counter+1\n",
    "                    prev_node = cur_node\n",
    "                    cur_node = cur_node.next_node\n",
    "                new_node.next_node = cur_node\n",
    "                prev_node.next_node = new_node\n",
    "                self.size = self.size+1\n",
    "    def del_index(self,index):\n",
    "        if(index>=self.size):\n",
    "            print(\"Given index not in chain.\")\n",
    "        elif(index==0):\n",
    "            self.del_front()\n",
    "        elif(index==self.size-1):\n",
    "            self.del_end()\n",
    "        else:\n",
    "            prev_node = self.anchor\n",
    "            cur_node = self.anchor.next_node\n",
    "            counter = 0\n",
    "            while(counter!=index-1):\n",
    "                counter = counter+1\n",
    "                prev_node = cur_node\n",
    "                cur_node = cur_node.next_node\n",
    "            prev_node.next_node = cur_node.next_node\n",
    "            self.size = self.size-1"
   ]
  },
  {
   "cell_type": "code",
   "execution_count": 234,
   "metadata": {},
   "outputs": [
    {
     "name": "stdout",
     "output_type": "stream",
     "text": [
      "5\n",
      "4\n",
      "1\n",
      "2\n",
      "3\n"
     ]
    }
   ],
   "source": [
    "chain1 = chain()\n",
    "chain1.insert_end(1)\n",
    "chain1.insert_end(2)\n",
    "chain1.insert_end(3)\n",
    "chain1.insert_front(4)\n",
    "chain1.insert_front(5)\n",
    "chain1.show_node()"
   ]
  },
  {
   "cell_type": "code",
   "execution_count": 235,
   "metadata": {},
   "outputs": [
    {
     "name": "stdout",
     "output_type": "stream",
     "text": [
      "4\n",
      "1\n",
      "2\n"
     ]
    }
   ],
   "source": [
    "chain1.del_front()\n",
    "chain1.del_end()\n",
    "chain1.show_node()"
   ]
  },
  {
   "cell_type": "code",
   "execution_count": 236,
   "metadata": {},
   "outputs": [
    {
     "name": "stdout",
     "output_type": "stream",
     "text": [
      "4\n",
      "2\n",
      "57\n"
     ]
    }
   ],
   "source": [
    "chain1.insert_index(3,57)\n",
    "chain1.del_index(1)\n",
    "chain1.show_node()"
   ]
  },
  {
   "cell_type": "code",
   "execution_count": 226,
   "metadata": {},
   "outputs": [
    {
     "name": "stdout",
     "output_type": "stream",
     "text": [
      "72\n",
      "42\n",
      "95\n",
      "10\n"
     ]
    }
   ],
   "source": [
    "\n",
    "chain1.show_node()"
   ]
  },
  {
   "cell_type": "code",
   "execution_count": null,
   "metadata": {},
   "outputs": [],
   "source": []
  }
 ],
 "metadata": {
  "kernelspec": {
   "display_name": "Python 3",
   "language": "python",
   "name": "python3"
  },
  "language_info": {
   "codemirror_mode": {
    "name": "ipython",
    "version": 3
   },
   "file_extension": ".py",
   "mimetype": "text/x-python",
   "name": "python",
   "nbconvert_exporter": "python",
   "pygments_lexer": "ipython3",
   "version": "3.7.4"
  }
 },
 "nbformat": 4,
 "nbformat_minor": 2
}
